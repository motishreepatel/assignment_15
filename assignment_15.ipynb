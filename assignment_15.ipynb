{
 "cells": [
  {
   "cell_type": "code",
   "execution_count": 1,
   "metadata": {},
   "outputs": [
    {
     "name": "stdout",
     "output_type": "stream",
     "text": [
      "No. of seconds in an hour: 3600\n"
     ]
    }
   ],
   "source": [
    "#Q - 1.How many seconds are in an hour? Use the interactive interpreter as a calculator and multiply the number of seconds in a minute (60) by the number of minutes in an hour (also 60).\n",
    "#Answer:\n",
    "#To calculate no.of seconds in an hour using interactive interpreter as a calculator:\n",
    "no_of_seconds_in_a_minute = 60\n",
    "no_of_minutes_in_an_hour = 60\n",
    "print(\"No. of seconds in an hour:\", no_of_seconds_in_a_minute * no_of_minutes_in_an_hour)\n"
   ]
  },
  {
   "cell_type": "code",
   "execution_count": 2,
   "metadata": {},
   "outputs": [
    {
     "name": "stdout",
     "output_type": "stream",
     "text": [
      "No. of seconds in an hour:  3600\n"
     ]
    }
   ],
   "source": [
    "#Q - 2. Assign the result from the previous task (seconds in an hour) to a variable called seconds_per_hour\n",
    "#Answer:\n",
    "no_of_seconds_in_a_minute = 60\n",
    "no_of_minutes_in_an_hour = 60\n",
    "seconds_per_hour =  no_of_seconds_in_a_minute * no_of_minutes_in_an_hour\n",
    "print(\"No. of seconds in an hour: \", seconds_per_hour)"
   ]
  },
  {
   "cell_type": "code",
   "execution_count": 3,
   "metadata": {},
   "outputs": [
    {
     "name": "stdout",
     "output_type": "stream",
     "text": [
      "No. of seconds in a day:  86400\n"
     ]
    }
   ],
   "source": [
    "#Q - 3. How many seconds do you think there are in a day? Make use of the variables seconds per hour and minutes per hour.\n",
    "no_of_seconds_in_a_minute = 60\n",
    "no_of_minutes_in_an_hour = 60\n",
    "no_of_hours_in_a_day = 24\n",
    "print(\"No. of seconds in a day: \",no_of_seconds_in_a_minute * no_of_minutes_in_an_hour * no_of_hours_in_a_day )"
   ]
  },
  {
   "cell_type": "code",
   "execution_count": 4,
   "metadata": {},
   "outputs": [
    {
     "name": "stdout",
     "output_type": "stream",
     "text": [
      "86400\n"
     ]
    }
   ],
   "source": [
    "#Q - 4. Calculate seconds per day again, but this time save the result in a variable called seconds_per_day\n",
    "#Answer:\n",
    "no_of_seconds_in_a_minute = 60\n",
    "no_of_minutes_in_an_hour = 60\n",
    "no_of_hours_in_a_day = 24\n",
    "seconds_per_day = no_of_seconds_in_a_minute * no_of_minutes_in_an_hour * no_of_hours_in_a_day\n",
    "print(seconds_per_day)"
   ]
  },
  {
   "cell_type": "code",
   "execution_count": 6,
   "metadata": {},
   "outputs": [
    {
     "name": "stdout",
     "output_type": "stream",
     "text": [
      "Division of two given variables are:  24.0\n"
     ]
    }
   ],
   "source": [
    "#Q - 5. Divide seconds_per_day by seconds_per_hour. Use floating-point (/) division.\n",
    "#Answer:\n",
    "seconds_per_day = 86400\n",
    "seconds_per_hour = 3600\n",
    "print(\"Division of two given variables are: \", float(seconds_per_day/seconds_per_hour))"
   ]
  },
  {
   "cell_type": "code",
   "execution_count": 7,
   "metadata": {},
   "outputs": [
    {
     "name": "stdout",
     "output_type": "stream",
     "text": [
      "24\n"
     ]
    }
   ],
   "source": [
    "#Q - 6. Divide seconds_per_day by seconds_per_hour, using integer (//) division. Did this number agree with the floating-point value from the previous question, aside from the final .0?\n",
    "#Answer:\n",
    "seconds_per_day = 86400\n",
    "seconds_per_hour = 3600\n",
    "int_division = seconds_per_day // seconds_per_hour\n",
    "print(int_division)"
   ]
  },
  {
   "cell_type": "code",
   "execution_count": 9,
   "metadata": {},
   "outputs": [
    {
     "name": "stdout",
     "output_type": "stream",
     "text": [
      "<function genPrimes at 0x11317a700>\n"
     ]
    }
   ],
   "source": [
    "#Q - 7. Write a generator, genPrimes, that returns the sequence of prime numbers on successive calls to its next() method: 2, 3, 5, 7, 11, ...\n",
    "#Answer:\n",
    "\n",
    "#Here's an implementation of the genPrimes generator that returns the sequence of prime numbers on successive calls to its next() method:\n",
    "def genPrimes():\n",
    "    primes = []  # List to store the prime numbers generated\n",
    "    num = 2     # Start with the first prime number\n",
    "\n",
    "    while True:\n",
    "        # Check if num is a prime number\n",
    "        is_prime = True\n",
    "        for prime in primes:\n",
    "            if num % prime == 0:\n",
    "                is_prime = False\n",
    "                break\n",
    "\n",
    "        if is_prime:\n",
    "            primes.append(num)\n",
    "            yield num\n",
    "\n",
    "        num += 1\n",
    "\n",
    "print(genPrimes)"
   ]
  },
  {
   "cell_type": "code",
   "execution_count": null,
   "metadata": {},
   "outputs": [],
   "source": []
  }
 ],
 "metadata": {
  "kernelspec": {
   "display_name": "Python 3.9.6 64-bit",
   "language": "python",
   "name": "python3"
  },
  "language_info": {
   "codemirror_mode": {
    "name": "ipython",
    "version": 3
   },
   "file_extension": ".py",
   "mimetype": "text/x-python",
   "name": "python",
   "nbconvert_exporter": "python",
   "pygments_lexer": "ipython3",
   "version": "3.9.6"
  },
  "orig_nbformat": 4,
  "vscode": {
   "interpreter": {
    "hash": "31f2aee4e71d21fbe5cf8b01ff0e069b9275f58929596ceb00d14d90e3e16cd6"
   }
  }
 },
 "nbformat": 4,
 "nbformat_minor": 2
}
